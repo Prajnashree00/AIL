{
 "cells": [
  {
   "cell_type": "code",
   "execution_count": 12,
   "id": "38f4cd84",
   "metadata": {},
   "outputs": [
    {
     "name": "stdout",
     "output_type": "stream",
     "text": [
      "Following is the Breadth-First Search\n",
      "1 2 10 3 8 4 9 5 6 7 "
     ]
    }
   ],
   "source": [
    "\n",
    "graph = {\n",
    " '1' : ['2','10'],\n",
    " '2' : ['3','8'],\n",
    " '3' : ['4'],\n",
    " '4' : ['5','6','7'],\n",
    " '5' : [],\n",
    " '6' : [],\n",
    " '7' : [],\n",
    " '8' : ['9'],\n",
    " '9' : [],\n",
    " '10' : []\n",
    " }\n",
    "\n",
    "\n",
    "visited = [] # List for visited nodes.\n",
    "queue = []     #Initialize a queue\n",
    "\n",
    "def bfs(visited, graph, node): #function for BFS\n",
    "  visited.append(node)\n",
    "  queue.append(node)\n",
    "\n",
    "  while queue:          # Creating loop to visit each node\n",
    "    m = queue.pop(0) \n",
    "    print (m, end = \" \") \n",
    "\n",
    "    for neighbour in graph[m]:\n",
    "      if neighbour not in visited:\n",
    "        visited.append(neighbour)\n",
    "        queue.append(neighbour)\n",
    "\n",
    "# Driver Code\n",
    "print(\"Following is the Breadth-First Search\")\n",
    "bfs(visited, graph, '1')    # function calling"
   ]
  },
  {
   "cell_type": "code",
   "execution_count": 13,
   "id": "e9290983",
   "metadata": {},
   "outputs": [
    {
     "name": "stdout",
     "output_type": "stream",
     "text": [
      "Following is the Depth-First Search\n",
      "5\n",
      "3\n",
      "2\n",
      "1\n",
      "4\n",
      "8\n",
      "7\n",
      "6\n"
     ]
    }
   ],
   "source": [
    "# Using a Python dictionary to act as an adjacency list\n",
    "graph = {\n",
    " '5' : ['3','7'],\n",
    " '3' : ['2', '4'],\n",
    " '7' : ['6'],\n",
    " '6': [],\n",
    " '2' : ['1'],\n",
    " '1':[],\n",
    " '4' : ['8'],\n",
    " '8' : []\n",
    "}\n",
    "visited = set() # Set to keep track of visited nodes of graph.\n",
    "\n",
    "def dfs(visited, graph, node):  #function for dfs \n",
    "    if node not in visited:\n",
    "        print (node)\n",
    "        visited.add(node)\n",
    "        for neighbour in graph[node]:\n",
    "            dfs(visited, graph, neighbour)\n",
    "\n",
    "# Driver Code\n",
    "print(\"Following is the Depth-First Search\")\n",
    "dfs(visited, graph, '5')"
   ]
  },
  {
   "cell_type": "code",
   "execution_count": 14,
   "id": "df138ba4",
   "metadata": {},
   "outputs": [
    {
     "name": "stdout",
     "output_type": "stream",
     "text": [
      "Enter the number of nodes: 4\n",
      "Enter the number of edges: 5\n",
      "Enter the edges along with their weights:\n",
      "0 1  1\n",
      "0 2 1\n",
      "0 3 2\n",
      "2 3 2 \n",
      "1 3 3\n",
      "Enter the Source Node: 2\n",
      "Enter the Target/Destination Node: 1\n",
      "Path: 2 \n",
      "\n",
      "0 \n",
      "1 "
     ]
    }
   ],
   "source": [
    "from queue import PriorityQueue\n",
    "import matplotlib.pyplot as plt\n",
    "import networkx as nx\n",
    "# for implementing BFS | returns path having lowest cost\n",
    "def best_first_search(source, target, n):\n",
    " visited = [0] * n\n",
    " visited[source] = True\n",
    " pq = PriorityQueue()\n",
    " pq.put((0, source))\n",
    " while pq.empty() == False:\n",
    "   u = pq.get()[1]\n",
    "   print(u, end=\" \") # the path having lowest cost\n",
    "   if u == target:\n",
    "     break\n",
    "   for v, c in graph[u]:\n",
    "     if visited[v] == False:\n",
    "       visited[v] = True\n",
    "       pq.put((c, v))\n",
    "       print()\n",
    "# for adding edges to graph\n",
    "def addedge(x, y, cost):\n",
    " graph[x].append((y, cost))\n",
    " graph[y].append((x, cost))\n",
    "\n",
    "v = int(input(\"Enter the number of nodes: \"))\n",
    "graph = [[] for i in range(v)] # undirected Graph\n",
    "e = int(input(\"Enter the number of edges: \"))\n",
    "print(\"Enter the edges along with their weights:\")\n",
    "for i in range(e):\n",
    " x, y, z = list(map(int, input().split()))\n",
    " addedge(x, y, z)\n",
    "source = int(input(\"Enter the Source Node: \"))\n",
    "target = int(input(\"Enter the Target/Destination Node: \"))\n",
    "print(\"Path: \", end = \"\")\n",
    "best_first_search(source, target, v)"
   ]
  },
  {
   "cell_type": "code",
   "execution_count": 4,
   "id": "d888598e",
   "metadata": {},
   "outputs": [
    {
     "name": "stdout",
     "output_type": "stream",
     "text": [
      "Steps: \n",
      "0 0\n",
      "4 0\n",
      "4 3\n",
      "0 3\n",
      "3 0\n",
      "3 3\n",
      "4 2\n",
      "0 2\n"
     ]
    },
    {
     "data": {
      "text/plain": [
       "True"
      ]
     },
     "execution_count": 4,
     "metadata": {},
     "output_type": "execute_result"
    }
   ],
   "source": [
    "from collections import defaultdict\n",
    "jug1, jug2, aim = 4, 3, 2\n",
    "visited = defaultdict(lambda: False)\n",
    "def waterJugSolver(amt1, amt2):\n",
    " if (amt1 == aim and amt2 == 0) or (amt2 == aim and amt1 == 0):\n",
    "   print(amt1, amt2)\n",
    "   return True\n",
    " if visited[(amt1, amt2)] == False:\n",
    "   print(amt1, amt2)\n",
    "   visited[(amt1, amt2)] = True\n",
    "   return (waterJugSolver(0, amt2) or\n",
    " waterJugSolver(amt1, 0) or\n",
    " waterJugSolver(jug1, amt2) or\n",
    " waterJugSolver(amt1, jug2) or\n",
    " waterJugSolver(amt1 + min(amt2, (jug1-amt1)),\n",
    " amt2 - min(amt2, (jug1-amt1))) or\n",
    " waterJugSolver(amt1 - min(amt1, (jug2-amt2)),\n",
    " amt2 + min(amt1, (jug2-amt2))))\n",
    " else:\n",
    "   return False\n",
    "print(\"Steps: \")\n",
    "waterJugSolver(0, 0)"
   ]
  },
  {
   "cell_type": "code",
   "execution_count": 5,
   "id": "6a74796d",
   "metadata": {},
   "outputs": [
    {
     "name": "stdout",
     "output_type": "stream",
     "text": [
      "Move disk 1 from source A to destination B\n",
      "Move disk 2 from source A to destination C\n",
      "Move disk 1 from source B to destination C\n",
      "Move disk 3 from source A to destination B\n",
      "Move disk 1 from source C to destination A\n",
      "Move disk 2 from source C to destination B\n",
      "Move disk 1 from source A to destination B\n"
     ]
    }
   ],
   "source": [
    "def TowerOfHanoi(n , source, destination, auxiliary):\n",
    "    if n==1:\n",
    "        print (\"Move disk 1 from source\",source,\"to destination\",destination)\n",
    "        return\n",
    "    TowerOfHanoi(n-1, source, auxiliary, destination)\n",
    "    print (\"Move disk\",n,\"from source\",source,\"to destination\",destination)\n",
    "    TowerOfHanoi(n-1, auxiliary, destination, source)\n",
    "\n",
    "n = 3\n",
    "TowerOfHanoi(n,'A','B','C')"
   ]
  }
 ],
 "metadata": {
  "kernelspec": {
   "display_name": "Python 3 (ipykernel)",
   "language": "python",
   "name": "python3"
  },
  "language_info": {
   "codemirror_mode": {
    "name": "ipython",
    "version": 3
   },
   "file_extension": ".py",
   "mimetype": "text/x-python",
   "name": "python",
   "nbconvert_exporter": "python",
   "pygments_lexer": "ipython3",
   "version": "3.9.13"
  }
 },
 "nbformat": 4,
 "nbformat_minor": 5
}
