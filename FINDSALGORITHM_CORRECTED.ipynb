{
 "cells": [
  {
   "cell_type": "code",
   "execution_count": 27,
   "id": "88cc84a2",
   "metadata": {},
   "outputs": [
    {
     "name": "stdout",
     "output_type": "stream",
     "text": [
      "    time weather     tem    comp   hum    wind goes\n",
      "0  Sunny    Warm  Normal  Strong  Warm    Same  Yes\n",
      "1  Sunny    Warm    High  Strong  Warm    Same  Yes\n",
      "2  Rainy    Cold    High  Strong  Warm  Change   No\n",
      "3  Sunny    Warm    High  Strong  Cool  Change  Yes\n",
      "the attributes are: [['Sunny' 'Warm' 'Normal' 'Strong' 'Warm' 'Same']\n",
      " ['Sunny' 'Warm' 'High' 'Strong' 'Warm' 'Same']\n",
      " ['Rainy' 'Cold' 'High' 'Strong' 'Warm' 'Change']\n",
      " ['Sunny' 'Warm' 'High' 'Strong' 'Cool' 'Change']]\n",
      "the target is: ['Yes' 'Yes' 'No' 'Yes']\n",
      "the final hyposthesis: ['Sunny' 'Warm' '?' 'Strong' '?' '?']\n"
     ]
    }
   ],
   "source": [
    "import pandas as pd\n",
    "import numpy as np\n",
    "\n",
    "data=pd.read_csv(\"s.csv\")\n",
    "print(data)\n",
    "\n",
    "d=np.array(data)[:,:-1]\n",
    "print(\"the attributes are:\",d)\n",
    "\n",
    "target=np.array(data)[:,-1]\n",
    "print(\"the target is:\",target)\n",
    "\n",
    "def train(c,t):\n",
    "    for i,val in enumerate(t):\n",
    "        if val==\"Yes\":\n",
    "            specific_hypothesis=c[i].copy()\n",
    "            break\n",
    "            \n",
    "    for i,val in enumerate(c):\n",
    "        if t[i]==\"Yes\":\n",
    "            for x in range (len( specific_hypothesis)):\n",
    "                if val[x]!= specific_hypothesis[x]:\n",
    "                    specific_hypothesis[x]= '?'\n",
    "                else:\n",
    "                    pass\n",
    "                \n",
    "    return specific_hypothesis\n",
    "print(\"the final hyposthesis:\",train(d,target))      \n",
    "                                      "
   ]
  },
  {
   "cell_type": "code",
   "execution_count": 26,
   "id": "913f2f62",
   "metadata": {},
   "outputs": [
    {
     "name": "stdout",
     "output_type": "stream",
     "text": [
      "    time weather     tem    comp   hum    wind goes\n",
      "0  Sunny    Warm  Normal  Strong  Warm    Same  Yes\n",
      "1  Sunny    Warm    High  Strong  Warm    Same  Yes\n",
      "2  Rainy    Cold    High  Strong  Warm  Change   No\n",
      "3  Sunny    Warm    High  Strong  Cool  Change  Yes\n",
      "The attributes are:  [['Sunny' 'Warm' 'Normal' 'Strong' 'Warm' 'Same']\n",
      " ['Sunny' 'Warm' 'High' 'Strong' 'Warm' 'Same']\n",
      " ['Rainy' 'Cold' 'High' 'Strong' 'Warm' 'Change']\n",
      " ['Sunny' 'Warm' 'High' 'Strong' 'Cool' 'Change']]\n",
      "The target is:  ['Yes' 'Yes' 'No' 'Yes']\n",
      "The final hypothesis is: ['Sunny' 'Warm' '?' 'Strong' '?' '?']\n"
     ]
    }
   ],
   "source": []
  },
  {
   "cell_type": "code",
   "execution_count": null,
   "id": "5565cf97",
   "metadata": {},
   "outputs": [],
   "source": []
  }
 ],
 "metadata": {
  "kernelspec": {
   "display_name": "Python 3 (ipykernel)",
   "language": "python",
   "name": "python3"
  },
  "language_info": {
   "codemirror_mode": {
    "name": "ipython",
    "version": 3
   },
   "file_extension": ".py",
   "mimetype": "text/x-python",
   "name": "python",
   "nbconvert_exporter": "python",
   "pygments_lexer": "ipython3",
   "version": "3.9.13"
  }
 },
 "nbformat": 4,
 "nbformat_minor": 5
}
